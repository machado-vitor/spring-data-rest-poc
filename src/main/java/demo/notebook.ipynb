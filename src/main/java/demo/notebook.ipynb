{
 "cells": [
  {
   "metadata": {},
   "cell_type": "raw",
   "source": [
    "\n",
    "\n"
   ],
   "id": "b5cb206d97cc669a"
  }
 ],
 "metadata": {
  "kernelspec": {
   "name": "scala",
   "language": "scala",
   "display_name": "Scala"
  }
 },
 "nbformat": 4,
 "nbformat_minor": 5
}
